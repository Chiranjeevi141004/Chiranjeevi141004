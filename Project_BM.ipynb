{
  "cells": [
    {
      "cell_type": "markdown",
      "metadata": {
        "id": "view-in-github",
        "colab_type": "text"
      },
      "source": [
        "<a href=\"https://colab.research.google.com/github/Chiranjeevi141004/Chiranjeevi141004/blob/main/Project_BM.ipynb\" target=\"_parent\"><img src=\"https://colab.research.google.com/assets/colab-badge.svg\" alt=\"Open In Colab\"/></a>"
      ]
    },
    {
      "cell_type": "markdown",
      "metadata": {
        "id": "OFEapTnM1uTu"
      },
      "source": [
        "**Problem Statement**\n",
        "The dataset appears to be related to sales prediction for retail products. The goal is likely to predict Item_Outlet_Sales based on product attributes (e.g., Item Type, Weight, MRP) and store attributes (e.g., Outlet Size, Location Type, Establishment Year)."
      ]
    },
    {
      "cell_type": "markdown",
      "metadata": {
        "id": "DDD5eorm1t_W"
      },
      "source": [
        "**Column Details**\n",
        "The dataset has 12 columns in the training set and 11 in the test set (excluding the target variable Item_Outlet_Sales).\n",
        "\n",
        "Item_Identifier: Unique ID for each product\n",
        "Item_Weight: Weight of the item\n",
        "Item_Fat_Content: Whether the product is \"Low Fat\" or \"Regular\"\n",
        "Item_Visibility: The percentage of visibility in the store\n",
        "Item_Type: Category of the item (e.g., Dairy, Snacks)\n",
        "Item_MRP: Maximum Retail Price\n",
        "Outlet_Identifier: Store ID\n",
        "Outlet_Establishment_Year: Year when the store was established\n",
        "Outlet_Size: Size of the store (e.g., Small, Medium, High)\n",
        "Outlet_Location_Type: Tier of the city where the store is located\n",
        "Outlet_Type: Type of the store (e.g., Grocery Store, Supermarket)\n",
        "Item_Outlet_Sales (Only in Training Data): Sales for a particular product in a store (Target Variable)"
      ]
    },
    {
      "cell_type": "code",
      "execution_count": null,
      "metadata": {
        "id": "hOb5YaMixP46"
      },
      "outputs": [],
      "source": [
        "# Step 1: Install and Import Required Libraries\n",
        "!pip install pandas numpy matplotlib seaborn scikit-learn\n",
        "\n",
        "import pandas as pd\n",
        "import numpy as np\n",
        "import matplotlib.pyplot as plt\n",
        "import seaborn as sns\n",
        "from sklearn.model_selection import train_test_split\n",
        "from sklearn.preprocessing import LabelEncoder, StandardScaler\n",
        "from sklearn.linear_model import LinearRegression\n",
        "from sklearn.tree import DecisionTreeRegressor\n",
        "from sklearn.ensemble import RandomForestRegressor, GradientBoostingRegressor\n",
        "from sklearn.neighbors import KNeighborsRegressor\n",
        "from sklearn.svm import SVR\n",
        "from sklearn.model_selection import GridSearchCV, cross_val_score\n",
        "from sklearn.metrics import mean_absolute_error, mean_squared_error, r2_score"
      ]
    },
    {
      "cell_type": "code",
      "execution_count": null,
      "metadata": {
        "id": "MLRceBSV0dQL"
      },
      "outputs": [],
      "source": [
        "# Step 2: Load the Dataset\n",
        "train_df = pd.read_csv(\"/content/Train_Data.csv\")\n",
        "test_df = pd.read_csv(\"/content/Test.csv\")"
      ]
    },
    {
      "cell_type": "code",
      "execution_count": null,
      "metadata": {
        "id": "jmfXm2J10dM0"
      },
      "outputs": [],
      "source": [
        "# Step 3: Understand the Data\n",
        "print(\"Train Data Shape:\", train_df.shape)\n",
        "print(\"Test Data Shape:\", test_df.shape)\n",
        "print(train_df.head())\n",
        "print(train_df.info())\n",
        "print(train_df.describe())"
      ]
    },
    {
      "cell_type": "code",
      "execution_count": null,
      "metadata": {
        "id": "Jj0Akwf80dJ-"
      },
      "outputs": [],
      "source": [
        "# Step 4: EDA\n",
        "## Univariate Analysis\n",
        "plt.figure(figsize=(10,5))\n",
        "sns.histplot(train_df[\"Item_Outlet_Sales\"], bins=50, kde=True, color=\"blue\")\n",
        "plt.title(\"Distribution of Item_Outlet_Sales\")\n",
        "plt.show()\n"
      ]
    },
    {
      "cell_type": "code",
      "execution_count": null,
      "metadata": {
        "id": "Z4GVX_AL0dHH"
      },
      "outputs": [],
      "source": [
        "## Bivariate Analysis\n",
        "numeric_cols = train_df.select_dtypes(include=[\"number\"])\n",
        "plt.figure(figsize=(10,5))\n",
        "sns.heatmap(numeric_cols.corr(), annot=True, cmap=\"coolwarm\", fmt=\".2f\")\n",
        "plt.title(\"Correlation Heatmap (Numeric Features Only)\")\n",
        "plt.show()"
      ]
    },
    {
      "cell_type": "code",
      "execution_count": null,
      "metadata": {
        "id": "luhfsJjv0dEE"
      },
      "outputs": [],
      "source": [
        "# Step 5: Check Missing Values\n",
        "print(train_df.isnull().sum())\n"
      ]
    },
    {
      "cell_type": "code",
      "execution_count": null,
      "metadata": {
        "id": "X2HgQVVi0dBX"
      },
      "outputs": [],
      "source": [
        "# Step 6: Handling Missing Values (if any)\n",
        "numeric_features = train_df.select_dtypes(include=[\"number\"]).columns\n",
        "train_df[numeric_features] = train_df[numeric_features].fillna(train_df[numeric_features].median())  # Fill numeric missing values with median\n",
        "\n",
        "categorical_features = train_df.select_dtypes(include=[\"object\"]).columns\n",
        "train_df[categorical_features] = train_df[categorical_features].fillna(train_df[categorical_features].mode().iloc[0])  # Fill categorical missing values with mode"
      ]
    },
    {
      "cell_type": "code",
      "execution_count": null,
      "metadata": {
        "id": "baOSXueM0c-x"
      },
      "outputs": [],
      "source": [
        "# Step 7: Check Duplicates\n",
        "print(\"Duplicate Rows: \", train_df.duplicated().sum())\n",
        "train_df.drop_duplicates(inplace=True)"
      ]
    },
    {
      "cell_type": "code",
      "execution_count": null,
      "metadata": {
        "id": "RuyGo-SV0c8H"
      },
      "outputs": [],
      "source": [
        "# Step 8: Outlier Treatment\n",
        "num_cols = [\"Item_Weight\", \"Item_Visibility\", \"Item_MRP\", \"Item_Outlet_Sales\"]\n",
        "plt.figure(figsize=(12,6))\n",
        "for i, col in enumerate(num_cols, 1):\n",
        "    plt.subplot(2,2,i)\n",
        "    sns.boxplot(y=train_df[col], color=\"skyblue\")\n",
        "    plt.title(f\"Boxplot of {col}\")\n",
        "plt.tight_layout()\n",
        "plt.show()"
      ]
    },
    {
      "cell_type": "code",
      "execution_count": null,
      "metadata": {
        "id": "4V-SJNED0c5G"
      },
      "outputs": [],
      "source": [
        "# Removing Outliers using IQR\n",
        "for col in num_cols:\n",
        "    Q1 = train_df[col].quantile(0.25)\n",
        "    Q3 = train_df[col].quantile(0.75)\n",
        "    IQR = Q3 - Q1\n",
        "    lower_bound = Q1 - 1.5 * IQR\n",
        "    upper_bound = Q3 + 1.5 * IQR\n",
        "    train_df = train_df[(train_df[col] >= lower_bound) & (train_df[col] <= upper_bound)]"
      ]
    },
    {
      "cell_type": "code",
      "execution_count": null,
      "metadata": {
        "id": "ngiUNfAO0c2c"
      },
      "outputs": [],
      "source": [
        "# Re-check Outlier Boxplots\n",
        "plt.figure(figsize=(12,6))\n",
        "for i, col in enumerate(num_cols, 1):\n",
        "    plt.subplot(2,2,i)\n",
        "    sns.boxplot(y=train_df[col], color=\"lightgreen\")\n",
        "    plt.title(f\"Boxplot of {col} (After Outlier Removal)\")\n",
        "plt.tight_layout()\n",
        "plt.show()\n"
      ]
    },
    {
      "cell_type": "code",
      "execution_count": null,
      "metadata": {
        "id": "fRFR37330czp"
      },
      "outputs": [],
      "source": [
        "# Step 9: Feature Engineering\n",
        "## Encoding Categorical Variables\n",
        "cat_cols = [\"Item_Fat_Content\", \"Outlet_Size\", \"Outlet_Location_Type\", \"Outlet_Type\", \"Item_Type\"]\n",
        "\n",
        "# Create label encoding dictionary for training data\n",
        "encoding_maps = {}\n",
        "for col in cat_cols:\n",
        "    unique_classes = train_df[col].unique()\n",
        "    encoding_maps[col] = {category: idx for idx, category in enumerate(unique_classes)}\n",
        "    train_df[col] = train_df[col].map(encoding_maps[col])\n",
        "\n",
        "# Apply the same mapping for test data, replacing unseen categories with -1\n",
        "for col in cat_cols:\n",
        "    test_df[col] = test_df[col].map(encoding_maps[col]).fillna(-1).astype(int)  # Assign -1 to unseen labels\n"
      ]
    },
    {
      "cell_type": "code",
      "execution_count": null,
      "metadata": {
        "id": "FwOEgGkU0cw_"
      },
      "outputs": [],
      "source": [
        "# Step 10: Splitting Features & Target\n",
        "X = train_df.drop(columns=[\"Item_Outlet_Sales\", \"Item_Identifier\", \"Outlet_Identifier\"])\n",
        "y = train_df[\"Item_Outlet_Sales\"]\n",
        "X_train, X_test, y_train, y_test = train_test_split(X, y, test_size=0.2, random_state=42)\n"
      ]
    },
    {
      "cell_type": "code",
      "execution_count": null,
      "metadata": {
        "colab": {
          "background_save": true,
          "base_uri": "https://localhost:8080/"
        },
        "id": "bRas_kMv0cuQ",
        "outputId": "d070f011-054c-49db-d7ae-dbccbc3f338d"
      },
      "outputs": [
        {
          "name": "stdout",
          "output_type": "stream",
          "text": [
            "Linear Regression Performance:\n",
            "MAE: 811.8118513418711\n",
            "MSE: 1104699.8896443062\n",
            "R2 Score: 0.49301455889262913\n",
            "----------------------------------\n",
            "Decision Tree Performance:\n",
            "MAE: 17.848194840295967\n",
            "MSE: 37127.55564944973\n",
            "R2 Score: 0.9829608653403274\n",
            "----------------------------------\n",
            "Random Forest Performance:\n",
            "MAE: 32.18860982101038\n",
            "MSE: 8131.4609152498915\n",
            "R2 Score: 0.9962681880050764\n",
            "----------------------------------\n",
            "Gradient Boosting Performance:\n",
            "MAE: 673.1794682000622\n",
            "MSE: 848294.4989484692\n",
            "R2 Score: 0.61068796623414\n",
            "----------------------------------\n",
            "KNN Performance:\n",
            "MAE: 13.414085487968762\n",
            "MSE: 7847.477378609878\n",
            "R2 Score: 0.9963985179887583\n",
            "----------------------------------\n",
            "SVM Performance:\n",
            "MAE: 1153.2931653489431\n",
            "MSE: 2144841.4665681073\n",
            "R2 Score: 0.01565718687313622\n",
            "----------------------------------\n"
          ]
        }
      ],
      "source": [
        "# Step 11: Model Training\n",
        "models = {\n",
        "    \"Linear Regression\": LinearRegression(),\n",
        "    \"Decision Tree\": DecisionTreeRegressor(),\n",
        "    \"Random Forest\": RandomForestRegressor(n_estimators=100),\n",
        "    \"Gradient Boosting\": GradientBoostingRegressor(),\n",
        "    \"KNN\": KNeighborsRegressor(n_neighbors=5),\n",
        "    \"SVM\": SVR()\n",
        "}\n",
        "\n",
        "for name, model in models.items():\n",
        "    model.fit(X_train, y_train)\n",
        "    y_pred = model.predict(X_test)\n",
        "    print(f\"{name} Performance:\")\n",
        "    print(\"MAE:\", mean_absolute_error(y_test, y_pred))\n",
        "    print(\"MSE:\", mean_squared_error(y_test, y_pred))\n",
        "    print(\"R2 Score:\", r2_score(y_test, y_pred))\n",
        "    print(\"----------------------------------\")\n",
        "\n"
      ]
    },
    {
      "cell_type": "code",
      "execution_count": null,
      "metadata": {
        "id": "LCG1-mZp0crL"
      },
      "outputs": [],
      "source": [
        "# Step 12: Hyperparameter Tuning for Best Model (Random Forest as an Example)\n",
        "param_grid = {\"n_estimators\": [50, 100, 200], \"max_depth\": [None, 10, 20]}\n",
        "grid_search = GridSearchCV(RandomForestRegressor(), param_grid, cv=5, scoring='r2')\n",
        "grid_search.fit(X_train, y_train)\n",
        "best_model = grid_search.best_estimator_\n",
        "\n",
        "y_pred_best = best_model.predict(X_test)\n",
        "print(\"Best Model Performance:\")\n",
        "print(\"MAE:\", mean_absolute_error(y_test, y_pred_best))\n",
        "print(\"MSE:\", mean_squared_error(y_test, y_pred_best))\n",
        "print(\"R2 Score:\", r2_score(y_test, y_pred_best))\n"
      ]
    },
    {
      "cell_type": "code",
      "execution_count": null,
      "metadata": {
        "id": "NlCyCXhK0coe"
      },
      "outputs": [],
      "source": []
    },
    {
      "cell_type": "code",
      "execution_count": null,
      "metadata": {
        "id": "omhDGArJ0clw"
      },
      "outputs": [],
      "source": []
    },
    {
      "cell_type": "code",
      "execution_count": null,
      "metadata": {
        "id": "x0gIkOVV0cjD"
      },
      "outputs": [],
      "source": []
    },
    {
      "cell_type": "code",
      "execution_count": null,
      "metadata": {
        "id": "WzYlgMMI0cgY"
      },
      "outputs": [],
      "source": []
    },
    {
      "cell_type": "code",
      "execution_count": null,
      "metadata": {
        "id": "gcIgupoN0cd1"
      },
      "outputs": [],
      "source": []
    },
    {
      "cell_type": "code",
      "execution_count": null,
      "metadata": {
        "id": "V6TRN3gk0cbE"
      },
      "outputs": [],
      "source": []
    },
    {
      "cell_type": "code",
      "execution_count": null,
      "metadata": {
        "id": "PDDtdC7G0cYV"
      },
      "outputs": [],
      "source": []
    }
  ],
  "metadata": {
    "colab": {
      "provenance": [],
      "authorship_tag": "ABX9TyPBalvEV57GfdL5dHEWu8v8",
      "include_colab_link": true
    },
    "kernelspec": {
      "display_name": "Python 3",
      "name": "python3"
    },
    "language_info": {
      "name": "python"
    }
  },
  "nbformat": 4,
  "nbformat_minor": 0
}